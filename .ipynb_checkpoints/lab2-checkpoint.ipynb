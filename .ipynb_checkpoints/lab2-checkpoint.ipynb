{
 "cells": [
  {
   "cell_type": "code",
   "execution_count": 118,
   "metadata": {},
   "outputs": [],
   "source": [
    "import pandas as pd\n",
    "import numpy as np\n",
    "from sklearn.ensemble import RandomForestRegressor\n",
    "from xgboost import XGBRegressor\n",
    "from lightgbm import LGBMRegressor\n",
    "from hyperopt import hp, tpe, space_eval\n",
    "from hyperopt.fmin import fmin\n",
    "from sklearn.model_selection import cross_val_score\n",
    "import scipy.stats as st\n",
    "from sklearn.metrics import mean_squared_log_error, make_scorer"
   ]
  },
  {
   "cell_type": "markdown",
   "metadata": {},
   "source": [
    "# Формирование данных и пространства гиперпараметров"
   ]
  },
  {
   "cell_type": "code",
   "execution_count": 120,
   "metadata": {},
   "outputs": [],
   "source": [
    "# пространство гиперпараметров\n",
    "space4rf = {\n",
    "    'max_depth': hp.choice('max_depth', range(5,15)),\n",
    "    'max_features': hp.choice('max_features', ['sqrt', 'log2']),\n",
    "    'n_estimators': hp.choice('n_estimators', range(100,1000, 100))\n",
    "}\n",
    "xgb_space = {\n",
    "            'max_depth': hp.choice('x_max_depth',[2,3,4,5,6]),\n",
    "            'min_child_weight':hp.choice('x_min_child_weight',np.round(np.arange(0.0,0.2,0.01),5)),\n",
    "            'learning_rate':hp.choice('x_learning_rate',np.round(np.arange(0.005,0.3,0.01),5)),\n",
    "            'subsample':hp.choice('x_subsample',np.round(np.arange(0.1,1.0,0.05),5)),\n",
    "            'colsample_bylevel':hp.choice('x_colsample_bylevel',np.round(np.arange(0.1,1.0,0.05),5)),\n",
    "            'colsample_bytree':hp.choice('x_colsample_bytree',np.round(np.arange(0.1,1.0,0.05),5)),\n",
    "            'n_estimators':hp.choice('x_n_estimators',np.arange(100, 300, 50))\n",
    "            }\n",
    "space_lgbm = {\n",
    "            'n_estimators': hp.choice('n_estimators', np.arange(100, 300, 50)),\n",
    "            'learning_rate': hp.quniform('eta', 0.025, 0.5, 0.025),\n",
    "            'max_depth':  hp.choice('max_depth', np.arange(1, 14, dtype=int)),\n",
    "            'min_child_weight': hp.quniform('min_child_weight', 1, 6, 1),\n",
    "            'subsample': hp.quniform('subsample', 0.5, 1, 0.05),\n",
    "            'gamma': hp.quniform('gamma', 0.5, 1, 0.05),\n",
    "            'colsample_bytree': hp.quniform('colsample_bytree', 0.5, 1, 0.05),\n",
    "        }"
   ]
  },
  {
   "cell_type": "code",
   "execution_count": 122,
   "metadata": {},
   "outputs": [],
   "source": [
    "def clf_high_boundary(clf, X_train, y_train, scoring, cv=5):\n",
    "    ''' вычисление верхней границы дов. ин-ла по n фолдам кросс-валидации'''\n",
    "    # вычисляем score на кросс валидации\n",
    "    val_scores = cross_val_score(clf, X_train, y_train, cv=5, scoring=scoring)\n",
    "    # доверительный интервал\n",
    "    conf_interval = st.t.interval(0.95, len(val_scores)-1, loc=val_scores.mean(), scale=val_scores.std())\n",
    "    return conf_interval[1]"
   ]
  },
  {
   "cell_type": "code",
   "execution_count": 123,
   "metadata": {},
   "outputs": [],
   "source": [
    "def hyperopt_model(model, params, X_train, y_train, scoring='neg_mean_squared_log_error', evals=30):\n",
    "    def hyperopt_score(params):\n",
    "        clf = model(**params)\n",
    "        return clf_high_boundary(clf, X_train, y_train, scoring=scoring)\n",
    "\n",
    "    best = fmin(fn=hyperopt_score, space=params, algo=tpe.suggest, max_evals=evals)\n",
    "    return model(**space_eval(params, best)), space_eval(params, best)"
   ]
  },
  {
   "cell_type": "code",
   "execution_count": 19,
   "metadata": {},
   "outputs": [],
   "source": [
    "test_df = pd.read_csv('test.csv')\n",
    "test_length = len(test_df)"
   ]
  },
  {
   "cell_type": "code",
   "execution_count": 22,
   "metadata": {},
   "outputs": [],
   "source": [
    "full_train_length = 74018464"
   ]
  },
  {
   "cell_type": "code",
   "execution_count": 37,
   "metadata": {},
   "outputs": [],
   "source": [
    "columns = pd.read_csv('train.csv', nrows=2).columns\n",
    "test = pd.read_csv('train.csv', skiprows=full_train_length-test_length, nrows=test_length)\n",
    "test.columns = columns"
   ]
  },
  {
   "cell_type": "code",
   "execution_count": 83,
   "metadata": {},
   "outputs": [],
   "source": [
    "train_baseline = pd.read_csv('train.csv', nrows=10**5)\n",
    "\n",
    "y = train_baseline['Demanda_uni_equil']\n",
    "train_baseline.drop('Demanda_uni_equil', axis=1, inplace=True)"
   ]
  },
  {
   "cell_type": "markdown",
   "metadata": {},
   "source": [
    "## Data fields\n",
    "\n",
    "Semana — Week number (From Thursday to Wednesday)\n",
    "\n",
    "Agencia_ID — Sales Depot ID\n",
    "\n",
    "Canal_ID — Sales Channel ID\n",
    "\n",
    "Ruta_SAK — Route ID (Several routes = Sales Depot)\n",
    "\n",
    "Cliente_ID — Client ID\n",
    "\n",
    "NombreCliente — Client name\n",
    "\n",
    "Producto_ID — Product ID\n",
    "\n",
    "NombreProducto — Product Name\n",
    "\n",
    "Venta_uni_hoy — Sales unit this week (integer)\n",
    "\n",
    "Venta_hoy — Sales this week (unit: pesos)\n",
    "\n",
    "Dev_uni_proxima — Returns unit next week (integer)\n",
    "\n",
    "Dev_proxima — Returns next week (unit: pesos)\n",
    "\n",
    "Demanda_uni_equil — Adjusted Demand (integer) (This is the target you will predict)"
   ]
  },
  {
   "cell_type": "code",
   "execution_count": 38,
   "metadata": {},
   "outputs": [
    {
     "data": {
      "text/plain": [
       "10    3538385\n",
       "11    3460866\n",
       "Name: Semana, dtype: int64"
      ]
     },
     "execution_count": 38,
     "metadata": {},
     "output_type": "execute_result"
    }
   ],
   "source": [
    "test_df['Semana'].value_counts()"
   ]
  },
  {
   "cell_type": "code",
   "execution_count": 41,
   "metadata": {},
   "outputs": [
    {
     "data": {
      "text/plain": [
       "9    6999251\n",
       "Name: Semana, dtype: int64"
      ]
     },
     "execution_count": 41,
     "metadata": {},
     "output_type": "execute_result"
    }
   ],
   "source": [
    "test['Semana'].value_counts()"
   ]
  },
  {
   "cell_type": "markdown",
   "metadata": {},
   "source": [
    "## Подбор параметров на части данных"
   ]
  },
  {
   "cell_type": "code",
   "execution_count": 72,
   "metadata": {},
   "outputs": [
    {
     "name": "stdout",
     "output_type": "stream",
     "text": [
      "100%|█████████████████████████████████████████████| 30/30 [48:07<00:00, 96.26s/trial, best loss: -0.042993944663950345]\n"
     ]
    },
    {
     "data": {
      "text/plain": [
       "(RandomForestRegressor(bootstrap=True, ccp_alpha=0.0, criterion='mse',\n",
       "                       max_depth=5, max_features='log2', max_leaf_nodes=None,\n",
       "                       max_samples=None, min_impurity_decrease=0.0,\n",
       "                       min_impurity_split=None, min_samples_leaf=1,\n",
       "                       min_samples_split=2, min_weight_fraction_leaf=0.0,\n",
       "                       n_estimators=300, n_jobs=None, oob_score=False,\n",
       "                       random_state=None, verbose=0, warm_start=False),\n",
       " {'max_depth': 5, 'max_features': 'log2', 'n_estimators': 300})"
      ]
     },
     "execution_count": 72,
     "metadata": {},
     "output_type": "execute_result"
    }
   ],
   "source": [
    "rf, _ = hyperopt_model(RandomForestRegressor, space4rf, train_baseline, y)"
   ]
  },
  {
   "cell_type": "code",
   "execution_count": 74,
   "metadata": {},
   "outputs": [
    {
     "data": {
      "text/plain": [
       "RandomForestRegressor(bootstrap=True, ccp_alpha=0.0, criterion='mse',\n",
       "                      max_depth=5, max_features='log2', max_leaf_nodes=None,\n",
       "                      max_samples=None, min_impurity_decrease=0.0,\n",
       "                      min_impurity_split=None, min_samples_leaf=1,\n",
       "                      min_samples_split=2, min_weight_fraction_leaf=0.0,\n",
       "                      n_estimators=300, n_jobs=None, oob_score=False,\n",
       "                      random_state=None, verbose=0, warm_start=False)"
      ]
     },
     "execution_count": 74,
     "metadata": {},
     "output_type": "execute_result"
    }
   ],
   "source": [
    "rf.fit(train_baseline, y)"
   ]
  },
  {
   "cell_type": "code",
   "execution_count": 107,
   "metadata": {},
   "outputs": [
    {
     "name": "stdout",
     "output_type": "stream",
     "text": [
      "100%|████████████████████████████████████████████████| 30/30 [12:20<00:00, 24.70s/trial, best loss: 21.789172519451633]\n"
     ]
    },
    {
     "data": {
      "text/plain": [
       "(XGBRegressor(base_score=None, booster=None, colsample_bylevel=0.15,\n",
       "              colsample_bynode=None, colsample_bytree=0.75, gamma=None,\n",
       "              gpu_id=None, importance_type='gain', interaction_constraints=None,\n",
       "              learning_rate=0.235, max_delta_step=None, max_depth=6,\n",
       "              min_child_weight=0.1, missing=nan, monotone_constraints=None,\n",
       "              n_estimators=150, n_jobs=None, num_parallel_tree=None,\n",
       "              objective='reg:squarederror', random_state=None, reg_alpha=None,\n",
       "              reg_lambda=None, scale_pos_weight=None, subsample=0.15,\n",
       "              tree_method=None, validate_parameters=False, verbosity=None),\n",
       " {'colsample_bylevel': 0.15,\n",
       "  'colsample_bytree': 0.75,\n",
       "  'learning_rate': 0.235,\n",
       "  'max_depth': 6,\n",
       "  'min_child_weight': 0.1,\n",
       "  'n_estimators': 150,\n",
       "  'subsample': 0.15})"
      ]
     },
     "execution_count": 107,
     "metadata": {},
     "output_type": "execute_result"
    }
   ],
   "source": [
    "xgb, _ = hyperopt_model(XGBRegressor, xgb_space, train_baseline, y, scoring='neg_root_mean_squared_error')"
   ]
  },
  {
   "cell_type": "code",
   "execution_count": 112,
   "metadata": {},
   "outputs": [
    {
     "data": {
      "text/plain": [
       "XGBRegressor(base_score=0.5, booster=None, colsample_bylevel=0.15,\n",
       "             colsample_bynode=1, colsample_bytree=0.75, gamma=0, gpu_id=-1,\n",
       "             importance_type='gain', interaction_constraints=None,\n",
       "             learning_rate=0.235, max_delta_step=0, max_depth=6,\n",
       "             min_child_weight=0.1, missing=nan, monotone_constraints=None,\n",
       "             n_estimators=150, n_jobs=0, num_parallel_tree=1,\n",
       "             objective='reg:squarederror', random_state=0, reg_alpha=0,\n",
       "             reg_lambda=1, scale_pos_weight=1, subsample=0.15, tree_method=None,\n",
       "             validate_parameters=False, verbosity=None)"
      ]
     },
     "execution_count": 112,
     "metadata": {},
     "output_type": "execute_result"
    }
   ],
   "source": [
    "xgb.fit(train_baseline, y)"
   ]
  },
  {
   "cell_type": "code",
   "execution_count": 125,
   "metadata": {},
   "outputs": [
    {
     "name": "stdout",
     "output_type": "stream",
     "text": [
      "100%|█████████████████████████████████████████████████| 30/30 [01:21<00:00,  2.71s/trial, best loss: 25.19863906155475]\n"
     ]
    }
   ],
   "source": [
    "lgbm , _ = hyperopt_model(LGBMRegressor, space_lgbm, train_baseline, y, scoring='neg_root_mean_squared_error')"
   ]
  },
  {
   "cell_type": "code",
   "execution_count": 126,
   "metadata": {},
   "outputs": [
    {
     "data": {
      "text/plain": [
       "LGBMRegressor(boosting_type='gbdt', class_weight=None, colsample_bytree=0.5,\n",
       "              gamma=0.65, importance_type='split',\n",
       "              learning_rate=0.47500000000000003, max_depth=2,\n",
       "              min_child_samples=20, min_child_weight=2.0, min_split_gain=0.0,\n",
       "              n_estimators=150, n_jobs=-1, num_leaves=31, objective=None,\n",
       "              random_state=None, reg_alpha=0.0, reg_lambda=0.0, silent=True,\n",
       "              subsample=0.65, subsample_for_bin=200000, subsample_freq=0)"
      ]
     },
     "execution_count": 126,
     "metadata": {},
     "output_type": "execute_result"
    }
   ],
   "source": [
    "lgbm.fit(train_baseline, y)"
   ]
  },
  {
   "cell_type": "markdown",
   "metadata": {},
   "source": [
    "## Подсчет финального score"
   ]
  },
  {
   "cell_type": "code",
   "execution_count": 76,
   "metadata": {},
   "outputs": [],
   "source": [
    "y_test = test['Demanda_uni_equil']"
   ]
  },
  {
   "cell_type": "code",
   "execution_count": 80,
   "metadata": {},
   "outputs": [
    {
     "data": {
      "text/plain": [
       "0.43111007335434876"
      ]
     },
     "execution_count": 80,
     "metadata": {},
     "output_type": "execute_result"
    }
   ],
   "source": [
    "mean_squared_log_error(y_true=y_test, y_pred=rf.predict(test.iloc[:, :-1]))**0.5"
   ]
  },
  {
   "cell_type": "code",
   "execution_count": 117,
   "metadata": {},
   "outputs": [
    {
     "data": {
      "text/plain": [
       "0.3015254197112287"
      ]
     },
     "execution_count": 117,
     "metadata": {},
     "output_type": "execute_result"
    }
   ],
   "source": [
    "mean_squared_log_error(y_true=y_test, y_pred=np.abs(xgb.predict(test.iloc[:, :-1])))**0.5"
   ]
  },
  {
   "cell_type": "code",
   "execution_count": 127,
   "metadata": {},
   "outputs": [
    {
     "data": {
      "text/plain": [
       "0.16828117671639434"
      ]
     },
     "execution_count": 127,
     "metadata": {},
     "output_type": "execute_result"
    }
   ],
   "source": [
    "mean_squared_log_error(y_true=y_test, y_pred=np.abs(lgbm.predict(test.iloc[:, :-1])))**0.5"
   ]
  },
  {
   "cell_type": "markdown",
   "metadata": {},
   "source": [
    "## Измененный датасет"
   ]
  },
  {
   "cell_type": "code",
   "execution_count": 129,
   "metadata": {},
   "outputs": [
    {
     "data": {
      "text/html": [
       "<div>\n",
       "<style scoped>\n",
       "    .dataframe tbody tr th:only-of-type {\n",
       "        vertical-align: middle;\n",
       "    }\n",
       "\n",
       "    .dataframe tbody tr th {\n",
       "        vertical-align: top;\n",
       "    }\n",
       "\n",
       "    .dataframe thead th {\n",
       "        text-align: right;\n",
       "    }\n",
       "</style>\n",
       "<table border=\"1\" class=\"dataframe\">\n",
       "  <thead>\n",
       "    <tr style=\"text-align: right;\">\n",
       "      <th></th>\n",
       "      <th>Semana</th>\n",
       "      <th>Agencia_ID</th>\n",
       "      <th>Canal_ID</th>\n",
       "      <th>Ruta_SAK</th>\n",
       "      <th>Cliente_ID</th>\n",
       "      <th>Producto_ID</th>\n",
       "      <th>Venta_uni_hoy</th>\n",
       "      <th>Venta_hoy</th>\n",
       "      <th>Dev_uni_proxima</th>\n",
       "      <th>Dev_proxima</th>\n",
       "    </tr>\n",
       "  </thead>\n",
       "  <tbody>\n",
       "    <tr>\n",
       "      <th>0</th>\n",
       "      <td>3</td>\n",
       "      <td>1110</td>\n",
       "      <td>7</td>\n",
       "      <td>3301</td>\n",
       "      <td>15766</td>\n",
       "      <td>1212</td>\n",
       "      <td>3</td>\n",
       "      <td>25.14</td>\n",
       "      <td>0</td>\n",
       "      <td>0.0</td>\n",
       "    </tr>\n",
       "    <tr>\n",
       "      <th>1</th>\n",
       "      <td>3</td>\n",
       "      <td>1110</td>\n",
       "      <td>7</td>\n",
       "      <td>3301</td>\n",
       "      <td>15766</td>\n",
       "      <td>1216</td>\n",
       "      <td>4</td>\n",
       "      <td>33.52</td>\n",
       "      <td>0</td>\n",
       "      <td>0.0</td>\n",
       "    </tr>\n",
       "    <tr>\n",
       "      <th>2</th>\n",
       "      <td>3</td>\n",
       "      <td>1110</td>\n",
       "      <td>7</td>\n",
       "      <td>3301</td>\n",
       "      <td>15766</td>\n",
       "      <td>1238</td>\n",
       "      <td>4</td>\n",
       "      <td>39.32</td>\n",
       "      <td>0</td>\n",
       "      <td>0.0</td>\n",
       "    </tr>\n",
       "    <tr>\n",
       "      <th>3</th>\n",
       "      <td>3</td>\n",
       "      <td>1110</td>\n",
       "      <td>7</td>\n",
       "      <td>3301</td>\n",
       "      <td>15766</td>\n",
       "      <td>1240</td>\n",
       "      <td>4</td>\n",
       "      <td>33.52</td>\n",
       "      <td>0</td>\n",
       "      <td>0.0</td>\n",
       "    </tr>\n",
       "    <tr>\n",
       "      <th>4</th>\n",
       "      <td>3</td>\n",
       "      <td>1110</td>\n",
       "      <td>7</td>\n",
       "      <td>3301</td>\n",
       "      <td>15766</td>\n",
       "      <td>1242</td>\n",
       "      <td>3</td>\n",
       "      <td>22.92</td>\n",
       "      <td>0</td>\n",
       "      <td>0.0</td>\n",
       "    </tr>\n",
       "    <tr>\n",
       "      <th>...</th>\n",
       "      <td>...</td>\n",
       "      <td>...</td>\n",
       "      <td>...</td>\n",
       "      <td>...</td>\n",
       "      <td>...</td>\n",
       "      <td>...</td>\n",
       "      <td>...</td>\n",
       "      <td>...</td>\n",
       "      <td>...</td>\n",
       "      <td>...</td>\n",
       "    </tr>\n",
       "    <tr>\n",
       "      <th>99995</th>\n",
       "      <td>3</td>\n",
       "      <td>1112</td>\n",
       "      <td>1</td>\n",
       "      <td>1417</td>\n",
       "      <td>331275</td>\n",
       "      <td>1284</td>\n",
       "      <td>8</td>\n",
       "      <td>24.16</td>\n",
       "      <td>0</td>\n",
       "      <td>0.0</td>\n",
       "    </tr>\n",
       "    <tr>\n",
       "      <th>99996</th>\n",
       "      <td>3</td>\n",
       "      <td>1112</td>\n",
       "      <td>1</td>\n",
       "      <td>1417</td>\n",
       "      <td>331275</td>\n",
       "      <td>3270</td>\n",
       "      <td>3</td>\n",
       "      <td>31.41</td>\n",
       "      <td>0</td>\n",
       "      <td>0.0</td>\n",
       "    </tr>\n",
       "    <tr>\n",
       "      <th>99997</th>\n",
       "      <td>3</td>\n",
       "      <td>1112</td>\n",
       "      <td>1</td>\n",
       "      <td>1417</td>\n",
       "      <td>331275</td>\n",
       "      <td>31423</td>\n",
       "      <td>4</td>\n",
       "      <td>42.76</td>\n",
       "      <td>0</td>\n",
       "      <td>0.0</td>\n",
       "    </tr>\n",
       "    <tr>\n",
       "      <th>99998</th>\n",
       "      <td>3</td>\n",
       "      <td>1112</td>\n",
       "      <td>1</td>\n",
       "      <td>1417</td>\n",
       "      <td>331275</td>\n",
       "      <td>35651</td>\n",
       "      <td>20</td>\n",
       "      <td>150.00</td>\n",
       "      <td>0</td>\n",
       "      <td>0.0</td>\n",
       "    </tr>\n",
       "    <tr>\n",
       "      <th>99999</th>\n",
       "      <td>3</td>\n",
       "      <td>1112</td>\n",
       "      <td>1</td>\n",
       "      <td>1417</td>\n",
       "      <td>331291</td>\n",
       "      <td>1064</td>\n",
       "      <td>1</td>\n",
       "      <td>16.67</td>\n",
       "      <td>0</td>\n",
       "      <td>0.0</td>\n",
       "    </tr>\n",
       "  </tbody>\n",
       "</table>\n",
       "<p>100000 rows × 10 columns</p>\n",
       "</div>"
      ],
      "text/plain": [
       "       Semana  Agencia_ID  Canal_ID  Ruta_SAK  Cliente_ID  Producto_ID  \\\n",
       "0           3        1110         7      3301       15766         1212   \n",
       "1           3        1110         7      3301       15766         1216   \n",
       "2           3        1110         7      3301       15766         1238   \n",
       "3           3        1110         7      3301       15766         1240   \n",
       "4           3        1110         7      3301       15766         1242   \n",
       "...       ...         ...       ...       ...         ...          ...   \n",
       "99995       3        1112         1      1417      331275         1284   \n",
       "99996       3        1112         1      1417      331275         3270   \n",
       "99997       3        1112         1      1417      331275        31423   \n",
       "99998       3        1112         1      1417      331275        35651   \n",
       "99999       3        1112         1      1417      331291         1064   \n",
       "\n",
       "       Venta_uni_hoy  Venta_hoy  Dev_uni_proxima  Dev_proxima  \n",
       "0                  3      25.14                0          0.0  \n",
       "1                  4      33.52                0          0.0  \n",
       "2                  4      39.32                0          0.0  \n",
       "3                  4      33.52                0          0.0  \n",
       "4                  3      22.92                0          0.0  \n",
       "...              ...        ...              ...          ...  \n",
       "99995              8      24.16                0          0.0  \n",
       "99996              3      31.41                0          0.0  \n",
       "99997              4      42.76                0          0.0  \n",
       "99998             20     150.00                0          0.0  \n",
       "99999              1      16.67                0          0.0  \n",
       "\n",
       "[100000 rows x 10 columns]"
      ]
     },
     "execution_count": 129,
     "metadata": {},
     "output_type": "execute_result"
    }
   ],
   "source": [
    "train_baseline"
   ]
  },
  {
   "cell_type": "code",
   "execution_count": 131,
   "metadata": {},
   "outputs": [
    {
     "data": {
      "text/plain": [
       "0       97559\n",
       "1        1179\n",
       "2         563\n",
       "3         220\n",
       "4         126\n",
       "5         109\n",
       "6          54\n",
       "7          31\n",
       "8          24\n",
       "10         17\n",
       "9          16\n",
       "11         14\n",
       "12         13\n",
       "15         10\n",
       "14          7\n",
       "20          7\n",
       "24          5\n",
       "13          4\n",
       "19          4\n",
       "21          4\n",
       "25          3\n",
       "40          3\n",
       "18          3\n",
       "30          3\n",
       "35          2\n",
       "16          2\n",
       "28          2\n",
       "17          2\n",
       "26          1\n",
       "27          1\n",
       "152         1\n",
       "150         1\n",
       "672         1\n",
       "76          1\n",
       "38          1\n",
       "43          1\n",
       "110         1\n",
       "48          1\n",
       "1008        1\n",
       "50          1\n",
       "55          1\n",
       "60          1\n",
       "Name: Dev_uni_proxima, dtype: int64"
      ]
     },
     "execution_count": 131,
     "metadata": {},
     "output_type": "execute_result"
    }
   ],
   "source": [
    "train_baseline['Dev_uni_proxima'].value_counts()"
   ]
  }
 ],
 "metadata": {
  "kernelspec": {
   "display_name": "Python 3 (ipykernel)",
   "language": "python",
   "name": "python3"
  },
  "language_info": {
   "codemirror_mode": {
    "name": "ipython",
    "version": 3
   },
   "file_extension": ".py",
   "mimetype": "text/x-python",
   "name": "python",
   "nbconvert_exporter": "python",
   "pygments_lexer": "ipython3",
   "version": "3.9.12"
  }
 },
 "nbformat": 4,
 "nbformat_minor": 4
}
