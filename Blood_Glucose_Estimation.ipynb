{
 "cells": [
  {
   "cell_type": "code",
   "execution_count": 1,
   "id": "58b724e1",
   "metadata": {},
   "outputs": [],
   "source": [
    "import pandas as pd\n",
    "import os\n",
    "import string"
   ]
  },
  {
   "cell_type": "code",
   "execution_count": 2,
   "id": "95adb734",
   "metadata": {},
   "outputs": [],
   "source": [
    "def get_train_test(annotation_cols, diabetes=False):\n",
    "    files_in_dir = os.listdir()\n",
    "    if diabetes:\n",
    "        annotation_cols.append('Наличие диабета')\n",
    "    df_ppg_train = pd.DataFrame()\n",
    "    df_annotation_train = pd.DataFrame()\n",
    "    # collecting ppg data from files\n",
    "    for csv in list(filter(lambda x:'PPG' in x, files_in_dir)):\n",
    "        df = pd.read_csv(csv, usecols=['cid', 'ppg_data'])\n",
    "        df_ppg_train = pd.concat([df_ppg_train, df])\n",
    "    # collecting test ppg data and train annotation data\n",
    "    else:\n",
    "#         df_test = pd.merge(pd.read_csv(f'PPG_{test_name}.csv', usecols=['cid', 'ppg_data']), \n",
    "#                            pd.read_excel(f'{test_name}.xlsx', usecols=annotation_cols).rename(columns={'Номер ЭКГ/ФПГ': 'cid'}), \n",
    "#                            on='cid').dropna(subset='Уровень глюкозы, ммоль/л')\n",
    "        for xlsx in list(filter(lambda x: x[0].lower() not in string.ascii_lowercase and x[0].isalpha(), files_in_dir)):\n",
    "            df = pd.read_excel(xlsx, usecols=annotation_cols)\n",
    "            df_annotation_train = pd.concat([df_annotation_train, df])\n",
    "        df_train = pd.merge(df_ppg_train, df_annotation_train.rename(columns={'Номер ЭКГ/ФПГ': 'cid'}), on='cid')\n",
    "    fasting_filt = df_train['Натощак'] == 1\n",
    "    food_filt = df_train['Натощак'] == 0\n",
    "    return df_train[food_filt], df_train[fasting_filt]"
   ]
  },
  {
   "cell_type": "code",
   "execution_count": 3,
   "id": "f240ee43",
   "metadata": {},
   "outputs": [],
   "source": [
    "train_names = ['MKNC', 'GKB']\n",
    "test_name = 'Polyclininc'\n",
    "annotation_cols = ['Номер ЭКГ/ФПГ',  'Уровень глюкозы, ммоль/л', \n",
    "                   'Возраст, лет', 'Вес, кг', 'Рост, см', 'Пол',\n",
    "                   'Натощак']"
   ]
  },
  {
   "cell_type": "code",
   "execution_count": 4,
   "id": "a219fd45",
   "metadata": {},
   "outputs": [
    {
     "ename": "ValueError",
     "evalue": "The truth value of a Series is ambiguous. Use a.empty, a.bool(), a.item(), a.any() or a.all().",
     "output_type": "error",
     "traceback": [
      "\u001b[1;31m---------------------------------------------------------------------------\u001b[0m",
      "\u001b[1;31mValueError\u001b[0m                                Traceback (most recent call last)",
      "Input \u001b[1;32mIn [4]\u001b[0m, in \u001b[0;36m<cell line: 1>\u001b[1;34m()\u001b[0m\n\u001b[1;32m----> 1\u001b[0m df_food, df_fasting \u001b[38;5;241m=\u001b[39m \u001b[43mget_train_test\u001b[49m\u001b[43m(\u001b[49m\u001b[43mannotation_cols\u001b[49m\u001b[43m)\u001b[49m\n",
      "Input \u001b[1;32mIn [2]\u001b[0m, in \u001b[0;36mget_train_test\u001b[1;34m(annotation_cols, diabetes)\u001b[0m\n\u001b[0;32m     19\u001b[0m     df_train \u001b[38;5;241m=\u001b[39m pd\u001b[38;5;241m.\u001b[39mmerge(df_ppg_train, df_annotation_train\u001b[38;5;241m.\u001b[39mrename(columns\u001b[38;5;241m=\u001b[39m{\u001b[38;5;124m'\u001b[39m\u001b[38;5;124mНомер ЭКГ/ФПГ\u001b[39m\u001b[38;5;124m'\u001b[39m: \u001b[38;5;124m'\u001b[39m\u001b[38;5;124mcid\u001b[39m\u001b[38;5;124m'\u001b[39m}), on\u001b[38;5;241m=\u001b[39m\u001b[38;5;124m'\u001b[39m\u001b[38;5;124mcid\u001b[39m\u001b[38;5;124m'\u001b[39m)\n\u001b[0;32m     20\u001b[0m fasting_filt \u001b[38;5;241m=\u001b[39m df_train[\u001b[38;5;124m'\u001b[39m\u001b[38;5;124mНатощак\u001b[39m\u001b[38;5;124m'\u001b[39m] \u001b[38;5;241m==\u001b[39m \u001b[38;5;241m1\u001b[39m\n\u001b[1;32m---> 21\u001b[0m \u001b[38;5;28;01mreturn\u001b[39;00m df_train[\u001b[38;5;129;43;01mnot\u001b[39;49;00m\u001b[43m \u001b[49m\u001b[43mfasting_filt\u001b[49m], df_train[fasting_filt]\n",
      "File \u001b[1;32m~\\Anaconda3\\lib\\site-packages\\pandas\\core\\generic.py:1527\u001b[0m, in \u001b[0;36mNDFrame.__nonzero__\u001b[1;34m(self)\u001b[0m\n\u001b[0;32m   1525\u001b[0m \u001b[38;5;129m@final\u001b[39m\n\u001b[0;32m   1526\u001b[0m \u001b[38;5;28;01mdef\u001b[39;00m \u001b[38;5;21m__nonzero__\u001b[39m(\u001b[38;5;28mself\u001b[39m):\n\u001b[1;32m-> 1527\u001b[0m     \u001b[38;5;28;01mraise\u001b[39;00m \u001b[38;5;167;01mValueError\u001b[39;00m(\n\u001b[0;32m   1528\u001b[0m         \u001b[38;5;124mf\u001b[39m\u001b[38;5;124m\"\u001b[39m\u001b[38;5;124mThe truth value of a \u001b[39m\u001b[38;5;132;01m{\u001b[39;00m\u001b[38;5;28mtype\u001b[39m(\u001b[38;5;28mself\u001b[39m)\u001b[38;5;241m.\u001b[39m\u001b[38;5;18m__name__\u001b[39m\u001b[38;5;132;01m}\u001b[39;00m\u001b[38;5;124m is ambiguous. \u001b[39m\u001b[38;5;124m\"\u001b[39m\n\u001b[0;32m   1529\u001b[0m         \u001b[38;5;124m\"\u001b[39m\u001b[38;5;124mUse a.empty, a.bool(), a.item(), a.any() or a.all().\u001b[39m\u001b[38;5;124m\"\u001b[39m\n\u001b[0;32m   1530\u001b[0m     )\n",
      "\u001b[1;31mValueError\u001b[0m: The truth value of a Series is ambiguous. Use a.empty, a.bool(), a.item(), a.any() or a.all()."
     ]
    }
   ],
   "source": [
    "df_food, df_fasting = get_train_test(annotation_cols)"
   ]
  }
 ],
 "metadata": {
  "kernelspec": {
   "display_name": "Python 3 (ipykernel)",
   "language": "python",
   "name": "python3"
  },
  "language_info": {
   "codemirror_mode": {
    "name": "ipython",
    "version": 3
   },
   "file_extension": ".py",
   "mimetype": "text/x-python",
   "name": "python",
   "nbconvert_exporter": "python",
   "pygments_lexer": "ipython3",
   "version": "3.9.12"
  }
 },
 "nbformat": 4,
 "nbformat_minor": 5
}
